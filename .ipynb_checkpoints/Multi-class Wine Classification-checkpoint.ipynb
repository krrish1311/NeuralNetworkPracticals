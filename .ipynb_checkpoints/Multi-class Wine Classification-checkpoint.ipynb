{
 "cells": [
  {
   "cell_type": "code",
   "execution_count": 1,
   "id": "d9bb5e34",
   "metadata": {},
   "outputs": [],
   "source": [
    "import pandas as pd\n",
    "df = pd.read_csv(\"wine.csv\")"
   ]
  },
  {
   "cell_type": "code",
   "execution_count": 2,
   "id": "81fe1682",
   "metadata": {},
   "outputs": [
    {
     "data": {
      "text/plain": [
       "Index(['Wine', 'Alcohol', 'Malic.acid', 'Ash', 'Acl', 'Mg', 'Phenols',\n",
       "       'Flavanoids', 'Nonflavanoid.phenols', 'Proanth', 'Color.int', 'Hue',\n",
       "       'OD', 'Proline'],\n",
       "      dtype='object')"
      ]
     },
     "execution_count": 2,
     "metadata": {},
     "output_type": "execute_result"
    }
   ],
   "source": [
    "df.columns"
   ]
  },
  {
   "cell_type": "code",
   "execution_count": 3,
   "id": "63dcc7e1",
   "metadata": {},
   "outputs": [
    {
     "data": {
      "text/html": [
       "<div>\n",
       "<style scoped>\n",
       "    .dataframe tbody tr th:only-of-type {\n",
       "        vertical-align: middle;\n",
       "    }\n",
       "\n",
       "    .dataframe tbody tr th {\n",
       "        vertical-align: top;\n",
       "    }\n",
       "\n",
       "    .dataframe thead th {\n",
       "        text-align: right;\n",
       "    }\n",
       "</style>\n",
       "<table border=\"1\" class=\"dataframe\">\n",
       "  <thead>\n",
       "    <tr style=\"text-align: right;\">\n",
       "      <th></th>\n",
       "      <th>Wine</th>\n",
       "      <th>Alcohol</th>\n",
       "      <th>Malic.acid</th>\n",
       "      <th>Ash</th>\n",
       "      <th>Acl</th>\n",
       "      <th>Mg</th>\n",
       "      <th>Phenols</th>\n",
       "      <th>Flavanoids</th>\n",
       "      <th>Nonflavanoid.phenols</th>\n",
       "      <th>Proanth</th>\n",
       "      <th>Color.int</th>\n",
       "      <th>Hue</th>\n",
       "      <th>OD</th>\n",
       "      <th>Proline</th>\n",
       "    </tr>\n",
       "  </thead>\n",
       "  <tbody>\n",
       "    <tr>\n",
       "      <th>0</th>\n",
       "      <td>1</td>\n",
       "      <td>14.23</td>\n",
       "      <td>1.71</td>\n",
       "      <td>2.43</td>\n",
       "      <td>15.6</td>\n",
       "      <td>127</td>\n",
       "      <td>2.80</td>\n",
       "      <td>3.06</td>\n",
       "      <td>0.28</td>\n",
       "      <td>2.29</td>\n",
       "      <td>5.64</td>\n",
       "      <td>1.04</td>\n",
       "      <td>3.92</td>\n",
       "      <td>1065</td>\n",
       "    </tr>\n",
       "    <tr>\n",
       "      <th>1</th>\n",
       "      <td>1</td>\n",
       "      <td>13.20</td>\n",
       "      <td>1.78</td>\n",
       "      <td>2.14</td>\n",
       "      <td>11.2</td>\n",
       "      <td>100</td>\n",
       "      <td>2.65</td>\n",
       "      <td>2.76</td>\n",
       "      <td>0.26</td>\n",
       "      <td>1.28</td>\n",
       "      <td>4.38</td>\n",
       "      <td>1.05</td>\n",
       "      <td>3.40</td>\n",
       "      <td>1050</td>\n",
       "    </tr>\n",
       "    <tr>\n",
       "      <th>2</th>\n",
       "      <td>1</td>\n",
       "      <td>13.16</td>\n",
       "      <td>2.36</td>\n",
       "      <td>2.67</td>\n",
       "      <td>18.6</td>\n",
       "      <td>101</td>\n",
       "      <td>2.80</td>\n",
       "      <td>3.24</td>\n",
       "      <td>0.30</td>\n",
       "      <td>2.81</td>\n",
       "      <td>5.68</td>\n",
       "      <td>1.03</td>\n",
       "      <td>3.17</td>\n",
       "      <td>1185</td>\n",
       "    </tr>\n",
       "    <tr>\n",
       "      <th>3</th>\n",
       "      <td>1</td>\n",
       "      <td>14.37</td>\n",
       "      <td>1.95</td>\n",
       "      <td>2.50</td>\n",
       "      <td>16.8</td>\n",
       "      <td>113</td>\n",
       "      <td>3.85</td>\n",
       "      <td>3.49</td>\n",
       "      <td>0.24</td>\n",
       "      <td>2.18</td>\n",
       "      <td>7.80</td>\n",
       "      <td>0.86</td>\n",
       "      <td>3.45</td>\n",
       "      <td>1480</td>\n",
       "    </tr>\n",
       "    <tr>\n",
       "      <th>4</th>\n",
       "      <td>1</td>\n",
       "      <td>13.24</td>\n",
       "      <td>2.59</td>\n",
       "      <td>2.87</td>\n",
       "      <td>21.0</td>\n",
       "      <td>118</td>\n",
       "      <td>2.80</td>\n",
       "      <td>2.69</td>\n",
       "      <td>0.39</td>\n",
       "      <td>1.82</td>\n",
       "      <td>4.32</td>\n",
       "      <td>1.04</td>\n",
       "      <td>2.93</td>\n",
       "      <td>735</td>\n",
       "    </tr>\n",
       "  </tbody>\n",
       "</table>\n",
       "</div>"
      ],
      "text/plain": [
       "   Wine  Alcohol  Malic.acid   Ash   Acl   Mg  Phenols  Flavanoids  \\\n",
       "0     1    14.23        1.71  2.43  15.6  127     2.80        3.06   \n",
       "1     1    13.20        1.78  2.14  11.2  100     2.65        2.76   \n",
       "2     1    13.16        2.36  2.67  18.6  101     2.80        3.24   \n",
       "3     1    14.37        1.95  2.50  16.8  113     3.85        3.49   \n",
       "4     1    13.24        2.59  2.87  21.0  118     2.80        2.69   \n",
       "\n",
       "   Nonflavanoid.phenols  Proanth  Color.int   Hue    OD  Proline  \n",
       "0                  0.28     2.29       5.64  1.04  3.92     1065  \n",
       "1                  0.26     1.28       4.38  1.05  3.40     1050  \n",
       "2                  0.30     2.81       5.68  1.03  3.17     1185  \n",
       "3                  0.24     2.18       7.80  0.86  3.45     1480  \n",
       "4                  0.39     1.82       4.32  1.04  2.93      735  "
      ]
     },
     "execution_count": 3,
     "metadata": {},
     "output_type": "execute_result"
    }
   ],
   "source": [
    "df.head()"
   ]
  },
  {
   "cell_type": "code",
   "execution_count": 4,
   "id": "461b1ce8",
   "metadata": {},
   "outputs": [],
   "source": [
    "y = df[\"Wine\"]"
   ]
  },
  {
   "cell_type": "code",
   "execution_count": 5,
   "id": "6d5a2ffb",
   "metadata": {},
   "outputs": [
    {
     "data": {
      "text/plain": [
       "2    71\n",
       "1    59\n",
       "3    48\n",
       "Name: Wine, dtype: int64"
      ]
     },
     "execution_count": 5,
     "metadata": {},
     "output_type": "execute_result"
    }
   ],
   "source": [
    "y.value_counts()"
   ]
  },
  {
   "cell_type": "code",
   "execution_count": 6,
   "id": "111112f9",
   "metadata": {},
   "outputs": [
    {
     "data": {
      "text/plain": [
       "<AxesSubplot:>"
      ]
     },
     "execution_count": 6,
     "metadata": {},
     "output_type": "execute_result"
    },
    {
     "data": {
      "image/png": "[encoded data removed]",
      "text/plain": [
       "<Figure size 432x288 with 1 Axes>"
      ]
     },
     "metadata": {
      "needs_background": "light"
     },
     "output_type": "display_data"
    }
   ],
   "source": [
    "# We can plot this to visualize \n",
    "y.value_counts().plot(kind=\"bar\")"
   ]
  },
  {
   "cell_type": "code",
   "execution_count": 7,
   "id": "f42d2850",
   "metadata": {},
   "outputs": [
    {
     "data": {
      "text/plain": [
       "<AxesSubplot:xlabel='Alcohol', ylabel='Wine'>"
      ]
     },
     "execution_count": 7,
     "metadata": {},
     "output_type": "execute_result"
    },
    {
     "data": {
      "image/png": "[encoded data removed]",
      "text/plain": [
       "<Figure size 432x288 with 1 Axes>"
      ]
     },
     "metadata": {
      "needs_background": "light"
     },
     "output_type": "display_data"
    }
   ],
   "source": [
    "import seaborn as sns \n",
    "sns.scatterplot(x=\"Alcohol\", y=\"Wine\", data=df)\n",
    "# We can assure that if alcohol value is b/w 11.5 to 12.5 then it belongs to wine 2. So, Alcohol is important feature."
   ]
  },
  {
   "cell_type": "code",
   "execution_count": 8,
   "id": "cf691e98",
   "metadata": {},
   "outputs": [],
   "source": [
    "# Class 2 wine is max. \n",
    "# Softmax will give the probability of all the 3 classes"
   ]
  },
  {
   "cell_type": "code",
   "execution_count": 9,
   "id": "29c6b4f3",
   "metadata": {},
   "outputs": [],
   "source": [
    "y_cat = pd.get_dummies(y)"
   ]
  },
  {
   "cell_type": "code",
   "execution_count": 10,
   "id": "9fba8dad",
   "metadata": {},
   "outputs": [],
   "source": [
    "X = df.drop(['Wine'], axis=1)"
   ]
  },
  {
   "cell_type": "code",
   "execution_count": 11,
   "id": "a6176bc6",
   "metadata": {},
   "outputs": [
    {
     "data": {
      "text/plain": [
       "(178, 13)"
      ]
     },
     "execution_count": 11,
     "metadata": {},
     "output_type": "execute_result"
    }
   ],
   "source": [
    "X.shape"
   ]
  },
  {
   "cell_type": "code",
   "execution_count": 12,
   "id": "343d7915",
   "metadata": {},
   "outputs": [],
   "source": [
    "from keras.models import Sequential"
   ]
  },
  {
   "cell_type": "code",
   "execution_count": 13,
   "id": "c8881397",
   "metadata": {},
   "outputs": [],
   "source": [
    "model = Sequential()"
   ]
  },
  {
   "cell_type": "code",
   "execution_count": 14,
   "id": "f6143ded",
   "metadata": {},
   "outputs": [],
   "source": [
    "from keras.layers import Dense"
   ]
  },
  {
   "cell_type": "code",
   "execution_count": 15,
   "id": "30db5690",
   "metadata": {},
   "outputs": [
    {
     "data": {
      "text/plain": [
       "{'name': 'sequential', 'layers': []}"
      ]
     },
     "execution_count": 15,
     "metadata": {},
     "output_type": "execute_result"
    }
   ],
   "source": [
    "model.get_config()"
   ]
  },
  {
   "cell_type": "code",
   "execution_count": 16,
   "id": "fa478417",
   "metadata": {},
   "outputs": [],
   "source": [
    "# 1st layer \n",
    "model.add(\n",
    "    Dense(\n",
    "        units=32,\n",
    "        kernel_initializer=\"he_normal\", # Initializer will speed up the model training\n",
    "        input_shape=(13,),\n",
    "        activation='relu'\n",
    "    )\n",
    ")"
   ]
  },
  {
   "cell_type": "code",
   "execution_count": 17,
   "id": "f366e3cd",
   "metadata": {},
   "outputs": [],
   "source": [
    "model.add(\n",
    "    Dense(\n",
    "        units=16,\n",
    "        kernel_initializer=\"he_normal\",\n",
    "        activation='relu'\n",
    "    )\n",
    ")"
   ]
  },
  {
   "cell_type": "code",
   "execution_count": 18,
   "id": "ab5724f7",
   "metadata": {},
   "outputs": [],
   "source": [
    "model.add(\n",
    "    Dense(\n",
    "        units=8,\n",
    "        kernel_initializer=\"he_normal\",\n",
    "        activation='relu'\n",
    "    )\n",
    ")"
   ]
  },
  {
   "cell_type": "code",
   "execution_count": 19,
   "id": "3e53a5bc",
   "metadata": {},
   "outputs": [],
   "source": [
    "model.add(\n",
    "    Dense(\n",
    "        units=3,\n",
    "        activation='softmax' # softmax will help to find the probability of all the 3 classes and we can the class with max prob\n",
    "    )\n",
    ")"
   ]
  },
  {
   "cell_type": "code",
   "execution_count": 20,
   "id": "ec614672",
   "metadata": {},
   "outputs": [],
   "source": [
    "# Compiling model \n",
    "from keras.optimizers import RMSprop\n",
    "# categorical_crossentropy loss is used as we have multiclass classification problem. \n",
    "model.compile(optimizer=RMSprop(learning_rate=0.001), loss=\"categorical_crossentropy\", metrics=[\"accuracy\"])"
   ]
  },
  {
   "cell_type": "code",
   "execution_count": 21,
   "id": "648d2f19",
   "metadata": {},
   "outputs": [
    {
     "name": "stdout",
     "output_type": "stream",
     "text": [
      "Epoch 1/100\n",
      "6/6 [==============================] - 10s 1ms/step - loss: 129.3878 - accuracy: 0.3063\n",
      "Epoch 2/100\n",
      "6/6 [==============================] - 0s 1ms/step - loss: 53.0744 - accuracy: 0.1859\n",
      "Epoch 3/100\n",
      "6/6 [==============================] - 0s 1ms/step - loss: 38.1267 - accuracy: 0.0883\n",
      "Epoch 4/100\n",
      "6/6 [==============================] - 0s 1ms/step - loss: 25.3875 - accuracy: 0.1553\n",
      "Epoch 5/100\n",
      "6/6 [==============================] - 0s 1ms/step - loss: 14.0540 - accuracy: 0.2277\n",
      "Epoch 6/100\n",
      "6/6 [==============================] - 0s 997us/step - loss: 12.4368 - accuracy: 0.2178\n",
      "Epoch 7/100\n",
      "6/6 [==============================] - 0s 1ms/step - loss: 9.3511 - accuracy: 0.3257\n",
      "Epoch 8/100\n",
      "6/6 [==============================] - 0s 1ms/step - loss: 8.5130 - accuracy: 0.3294\n",
      "Epoch 9/100\n",
      "6/6 [==============================] - 0s 997us/step - loss: 10.6602 - accuracy: 0.3576\n",
      "Epoch 10/100\n",
      "6/6 [==============================] - 0s 1ms/step - loss: 5.9961 - accuracy: 0.3610\n",
      "Epoch 11/100\n",
      "6/6 [==============================] - 0s 997us/step - loss: 6.8122 - accuracy: 0.4076\n",
      "Epoch 12/100\n",
      "6/6 [==============================] - 0s 1ms/step - loss: 4.6329 - accuracy: 0.5221\n",
      "Epoch 13/100\n",
      "6/6 [==============================] - 0s 1ms/step - loss: 5.5825 - accuracy: 0.4207\n",
      "Epoch 14/100\n",
      "6/6 [==============================] - 0s 1ms/step - loss: 7.1786 - accuracy: 0.3849\n",
      "Epoch 15/100\n",
      "6/6 [==============================] - 0s 1ms/step - loss: 5.4426 - accuracy: 0.3868\n",
      "Epoch 16/100\n",
      "6/6 [==============================] - 0s 1ms/step - loss: 3.2126 - accuracy: 0.5283\n",
      "Epoch 17/100\n",
      "6/6 [==============================] - 0s 1ms/step - loss: 6.2219 - accuracy: 0.4451\n",
      "Epoch 18/100\n",
      "6/6 [==============================] - 0s 2ms/step - loss: 2.6235 - accuracy: 0.5348\n",
      "Epoch 19/100\n",
      "6/6 [==============================] - 0s 1ms/step - loss: 1.9334 - accuracy: 0.6311\n",
      "Epoch 20/100\n",
      "6/6 [==============================] - 0s 1ms/step - loss: 6.5629 - accuracy: 0.4035\n",
      "Epoch 21/100\n",
      "6/6 [==============================] - 0s 1ms/step - loss: 4.2710 - accuracy: 0.4712\n",
      "Epoch 22/100\n",
      "6/6 [==============================] - 0s 1ms/step - loss: 3.1446 - accuracy: 0.6083\n",
      "Epoch 23/100\n",
      "6/6 [==============================] - 0s 1ms/step - loss: 2.7311 - accuracy: 0.5516\n",
      "Epoch 24/100\n",
      "6/6 [==============================] - 0s 997us/step - loss: 4.4807 - accuracy: 0.4891\n",
      "Epoch 25/100\n",
      "6/6 [==============================] - 0s 1ms/step - loss: 1.4791 - accuracy: 0.6350\n",
      "Epoch 26/100\n",
      "6/6 [==============================] - 0s 1ms/step - loss: 6.1459 - accuracy: 0.5652\n",
      "Epoch 27/100\n",
      "6/6 [==============================] - 0s 1ms/step - loss: 2.9199 - accuracy: 0.5060\n",
      "Epoch 28/100\n",
      "6/6 [==============================] - 0s 1ms/step - loss: 4.8452 - accuracy: 0.5667\n",
      "Epoch 29/100\n",
      "6/6 [==============================] - 0s 1ms/step - loss: 3.2076 - accuracy: 0.5182\n",
      "Epoch 30/100\n",
      "6/6 [==============================] - 0s 997us/step - loss: 5.7819 - accuracy: 0.4922\n",
      "Epoch 31/100\n",
      "6/6 [==============================] - 0s 1ms/step - loss: 2.0996 - accuracy: 0.5703\n",
      "Epoch 32/100\n",
      "6/6 [==============================] - 0s 997us/step - loss: 3.4695 - accuracy: 0.5649\n",
      "Epoch 33/100\n",
      "6/6 [==============================] - 0s 1ms/step - loss: 1.4375 - accuracy: 0.6384\n",
      "Epoch 34/100\n",
      "6/6 [==============================] - 0s 1ms/step - loss: 1.7545 - accuracy: 0.6569\n",
      "Epoch 35/100\n",
      "6/6 [==============================] - 0s 1ms/step - loss: 2.3053 - accuracy: 0.6751\n",
      "Epoch 36/100\n",
      "6/6 [==============================] - 0s 1ms/step - loss: 4.7458 - accuracy: 0.5641\n",
      "Epoch 37/100\n",
      "6/6 [==============================] - 0s 1ms/step - loss: 0.9180 - accuracy: 0.6907\n",
      "Epoch 38/100\n",
      "6/6 [==============================] - 0s 1ms/step - loss: 4.2490 - accuracy: 0.5370\n",
      "Epoch 39/100\n",
      "6/6 [==============================] - 0s 1ms/step - loss: 1.8504 - accuracy: 0.6215\n",
      "Epoch 40/100\n",
      "6/6 [==============================] - 0s 997us/step - loss: 2.3846 - accuracy: 0.5664\n",
      "Epoch 41/100\n",
      "6/6 [==============================] - 0s 1ms/step - loss: 3.6086 - accuracy: 0.5178\n",
      "Epoch 42/100\n",
      "6/6 [==============================] - 0s 997us/step - loss: 2.8112 - accuracy: 0.5468\n",
      "Epoch 43/100\n",
      "6/6 [==============================] - 0s 1ms/step - loss: 1.0779 - accuracy: 0.6418\n",
      "Epoch 44/100\n",
      "6/6 [==============================] - 0s 997us/step - loss: 5.1830 - accuracy: 0.4469\n",
      "Epoch 45/100\n",
      "6/6 [==============================] - 0s 998us/step - loss: 2.7743 - accuracy: 0.5405\n",
      "Epoch 46/100\n",
      "6/6 [==============================] - 0s 1ms/step - loss: 2.1561 - accuracy: 0.6103\n",
      "Epoch 47/100\n",
      "6/6 [==============================] - 0s 1ms/step - loss: 2.5319 - accuracy: 0.5471\n",
      "Epoch 48/100\n",
      "6/6 [==============================] - 0s 1ms/step - loss: 3.5236 - accuracy: 0.6417\n",
      "Epoch 49/100\n",
      "6/6 [==============================] - 0s 1ms/step - loss: 2.4829 - accuracy: 0.6036\n",
      "Epoch 50/100\n",
      "6/6 [==============================] - 0s 997us/step - loss: 2.5538 - accuracy: 0.6519\n",
      "Epoch 51/100\n",
      "6/6 [==============================] - 0s 1ms/step - loss: 2.0510 - accuracy: 0.6062\n",
      "Epoch 52/100\n",
      "6/6 [==============================] - 0s 1ms/step - loss: 4.1108 - accuracy: 0.5674\n",
      "Epoch 53/100\n",
      "6/6 [==============================] - 0s 1ms/step - loss: 1.5456 - accuracy: 0.5708\n",
      "Epoch 54/100\n",
      "6/6 [==============================] - 0s 997us/step - loss: 3.3911 - accuracy: 0.5081\n",
      "Epoch 55/100\n",
      "6/6 [==============================] - 0s 997us/step - loss: 2.3378 - accuracy: 0.5623\n",
      "Epoch 56/100\n",
      "6/6 [==============================] - 0s 1ms/step - loss: 2.2725 - accuracy: 0.5464\n",
      "Epoch 57/100\n",
      "6/6 [==============================] - 0s 997us/step - loss: 0.6777 - accuracy: 0.7804\n",
      "Epoch 58/100\n",
      "6/6 [==============================] - 0s 1ms/step - loss: 2.0755 - accuracy: 0.6994\n",
      "Epoch 59/100\n",
      "6/6 [==============================] - 0s 997us/step - loss: 4.1360 - accuracy: 0.5031\n",
      "Epoch 60/100\n",
      "6/6 [==============================] - 0s 1ms/step - loss: 1.3226 - accuracy: 0.6955\n",
      "Epoch 61/100\n",
      "6/6 [==============================] - 0s 997us/step - loss: 3.9060 - accuracy: 0.5545\n",
      "Epoch 62/100\n",
      "6/6 [==============================] - 0s 1ms/step - loss: 1.3269 - accuracy: 0.7265\n",
      "Epoch 63/100\n",
      "6/6 [==============================] - 0s 997us/step - loss: 3.4784 - accuracy: 0.5514\n",
      "Epoch 64/100\n",
      "6/6 [==============================] - 0s 1ms/step - loss: 0.9326 - accuracy: 0.7063\n",
      "Epoch 65/100\n",
      "6/6 [==============================] - 0s 997us/step - loss: 1.5744 - accuracy: 0.7524\n",
      "Epoch 66/100\n",
      "6/6 [==============================] - ETA: 0s - loss: 1.9452 - accuracy: 0.65 - 0s 1ms/step - loss: 1.2852 - accuracy: 0.6784\n",
      "Epoch 67/100\n",
      "6/6 [==============================] - 0s 997us/step - loss: 1.4521 - accuracy: 0.6394\n",
      "Epoch 68/100\n",
      "6/6 [==============================] - 0s 1ms/step - loss: 7.7081 - accuracy: 0.5051\n",
      "Epoch 69/100\n",
      "6/6 [==============================] - 0s 997us/step - loss: 0.9786 - accuracy: 0.7282\n",
      "Epoch 70/100\n",
      "6/6 [==============================] - 0s 997us/step - loss: 1.1234 - accuracy: 0.7389\n",
      "Epoch 71/100\n",
      "6/6 [==============================] - 0s 1ms/step - loss: 6.8419 - accuracy: 0.4116\n",
      "Epoch 72/100\n",
      "6/6 [==============================] - 0s 798us/step - loss: 1.2422 - accuracy: 0.6702\n",
      "Epoch 73/100\n",
      "6/6 [==============================] - 0s 997us/step - loss: 0.7919 - accuracy: 0.7966\n",
      "Epoch 74/100\n",
      "6/6 [==============================] - 0s 997us/step - loss: 1.3390 - accuracy: 0.7288\n",
      "Epoch 75/100\n",
      "6/6 [==============================] - 0s 1ms/step - loss: 5.5873 - accuracy: 0.6314\n",
      "Epoch 76/100\n",
      "6/6 [==============================] - 0s 997us/step - loss: 1.0943 - accuracy: 0.7562\n",
      "Epoch 77/100\n",
      "6/6 [==============================] - 0s 1ms/step - loss: 1.8889 - accuracy: 0.6098\n",
      "Epoch 78/100\n",
      "6/6 [==============================] - 0s 997us/step - loss: 0.6074 - accuracy: 0.8182\n",
      "Epoch 79/100\n",
      "6/6 [==============================] - 0s 997us/step - loss: 1.6402 - accuracy: 0.6918\n",
      "Epoch 80/100\n",
      "6/6 [==============================] - 0s 997us/step - loss: 1.4094 - accuracy: 0.6392\n",
      "Epoch 81/100\n",
      "6/6 [==============================] - 0s 1ms/step - loss: 1.0375 - accuracy: 0.7158\n",
      "Epoch 82/100\n",
      "6/6 [==============================] - 0s 1ms/step - loss: 2.0583 - accuracy: 0.7172\n",
      "Epoch 83/100\n"
     ]
    },
    {
     "name": "stdout",
     "output_type": "stream",
     "text": [
      "6/6 [==============================] - 0s 797us/step - loss: 0.8315 - accuracy: 0.7456\n",
      "Epoch 84/100\n",
      "6/6 [==============================] - 0s 1ms/step - loss: 2.1283 - accuracy: 0.6556\n",
      "Epoch 85/100\n",
      "6/6 [==============================] - 0s 997us/step - loss: 3.1007 - accuracy: 0.5188\n",
      "Epoch 86/100\n",
      "6/6 [==============================] - 0s 1ms/step - loss: 1.5425 - accuracy: 0.6756\n",
      "Epoch 87/100\n",
      "6/6 [==============================] - 0s 797us/step - loss: 3.6768 - accuracy: 0.6593\n",
      "Epoch 88/100\n",
      "6/6 [==============================] - 0s 1ms/step - loss: 1.7250 - accuracy: 0.6816\n",
      "Epoch 89/100\n",
      "6/6 [==============================] - 0s 997us/step - loss: 2.4678 - accuracy: 0.6477\n",
      "Epoch 90/100\n",
      "6/6 [==============================] - 0s 1ms/step - loss: 1.4257 - accuracy: 0.6558\n",
      "Epoch 91/100\n",
      "6/6 [==============================] - 0s 997us/step - loss: 2.0841 - accuracy: 0.6760\n",
      "Epoch 92/100\n",
      "6/6 [==============================] - 0s 1ms/step - loss: 1.8629 - accuracy: 0.7221\n",
      "Epoch 93/100\n",
      "6/6 [==============================] - 0s 997us/step - loss: 0.6674 - accuracy: 0.7421\n",
      "Epoch 94/100\n",
      "6/6 [==============================] - 0s 998us/step - loss: 1.9550 - accuracy: 0.6303\n",
      "Epoch 95/100\n",
      "6/6 [==============================] - 0s 1ms/step - loss: 1.9793 - accuracy: 0.7186\n",
      "Epoch 96/100\n",
      "6/6 [==============================] - 0s 997us/step - loss: 1.0354 - accuracy: 0.6725\n",
      "Epoch 97/100\n",
      "6/6 [==============================] - 0s 1ms/step - loss: 4.3638 - accuracy: 0.5281\n",
      "Epoch 98/100\n",
      "6/6 [==============================] - 0s 995us/step - loss: 1.2343 - accuracy: 0.6513\n",
      "Epoch 99/100\n",
      "6/6 [==============================] - 0s 799us/step - loss: 1.5654 - accuracy: 0.7397\n",
      "Epoch 100/100\n",
      "6/6 [==============================] - 0s 998us/step - loss: 3.8452 - accuracy: 0.5398\n"
     ]
    },
    {
     "data": {
      "text/plain": [
       "<keras.callbacks.History at 0x15ee5ed5fd0>"
      ]
     },
     "execution_count": 21,
     "metadata": {},
     "output_type": "execute_result"
    }
   ],
   "source": [
    "model.fit(X,y_cat, epochs=100)"
   ]
  },
  {
   "cell_type": "code",
   "execution_count": 22,
   "id": "5cd38d10",
   "metadata": {},
   "outputs": [],
   "source": [
    "loss = model.history.history[\"loss\"]"
   ]
  },
  {
   "cell_type": "code",
   "execution_count": 23,
   "id": "e1251f7f",
   "metadata": {},
   "outputs": [
    {
     "data": {
      "text/plain": [
       "[<matplotlib.lines.Line2D at 0x15ee7239460>]"
      ]
     },
     "execution_count": 23,
     "metadata": {},
     "output_type": "execute_result"
    },
    {
     "data": {
      "image/png": "[encoded data removed]",
      "text/plain": [
       "<Figure size 432x288 with 1 Axes>"
      ]
     },
     "metadata": {
      "needs_background": "light"
     },
     "output_type": "display_data"
    }
   ],
   "source": [
    "import matplotlib.pyplot as plt \n",
    "plt.plot(loss)"
   ]
  },
  {
   "cell_type": "code",
   "execution_count": 24,
   "id": "7ac37f5a",
   "metadata": {},
   "outputs": [
    {
     "data": {
      "text/plain": [
       "[<matplotlib.lines.Line2D at 0x15ee7891ee0>]"
      ]
     },
     "execution_count": 24,
     "metadata": {},
     "output_type": "execute_result"
    },
    {
     "data": {
      "image/png": "[encoded data removed]",
      "text/plain": [
       "<Figure size 432x288 with 1 Axes>"
      ]
     },
     "metadata": {
      "needs_background": "light"
     },
     "output_type": "display_data"
    }
   ],
   "source": [
    "acc = model.history.history[\"accuracy\"]\n",
    "plt.plot(acc)"
   ]
  },
  {
   "cell_type": "code",
   "execution_count": 25,
   "id": "3d205563",
   "metadata": {},
   "outputs": [],
   "source": [
    "sample = [14.23,1.71,2.43,15.6,127,2.80,3.06,0.28,2.29,5.64,1.04,3.92,1065]  # 1st record from data"
   ]
  },
  {
   "cell_type": "code",
   "execution_count": 26,
   "id": "8ff3880d",
   "metadata": {},
   "outputs": [],
   "source": [
    "pred = model.predict([sample])"
   ]
  },
  {
   "cell_type": "code",
   "execution_count": 27,
   "id": "ca8d9da2",
   "metadata": {},
   "outputs": [
    {
     "data": {
      "text/plain": [
       "array([[9.9999547e-01, 3.9428751e-06, 6.0763767e-07]], dtype=float32)"
      ]
     },
     "execution_count": 27,
     "metadata": {},
     "output_type": "execute_result"
    }
   ],
   "source": [
    "pred"
   ]
  },
  {
   "cell_type": "code",
   "execution_count": 28,
   "id": "83a058eb",
   "metadata": {},
   "outputs": [
    {
     "data": {
      "text/plain": [
       "0.99999547"
      ]
     },
     "execution_count": 28,
     "metadata": {},
     "output_type": "execute_result"
    }
   ],
   "source": [
    "pred.max() # Class 1 is the prediction which is correct"
   ]
  }
 ],
 "metadata": {
  "kernelspec": {
   "display_name": "Python 3",
   "language": "python",
   "name": "python3"
  },
  "language_info": {
   "codemirror_mode": {
    "name": "ipython",
    "version": 3
   },
   "file_extension": ".py",
   "mimetype": "text/x-python",
   "name": "python",
   "nbconvert_exporter": "python",
   "pygments_lexer": "ipython3",
   "version": "3.8.8"
  }
 },
 "nbformat": 4,
 "nbformat_minor": 5
}
